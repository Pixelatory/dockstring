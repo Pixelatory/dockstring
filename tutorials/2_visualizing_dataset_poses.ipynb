{
 "cells": [
  {
   "cell_type": "code",
   "execution_count": 1,
   "id": "d6db1818",
   "metadata": {},
   "outputs": [],
   "source": [
    "import dockstring\n",
    "import rdkit\n",
    "import pickle"
   ]
  },
  {
   "cell_type": "code",
   "execution_count": null,
   "id": "376fe2cb",
   "metadata": {},
   "outputs": [],
   "source": [
    "!unxz ABL1_sample.pkl"
   ]
  },
  {
   "cell_type": "code",
   "execution_count": null,
   "id": "66f7a200",
   "metadata": {},
   "outputs": [],
   "source": [
    "with open('ABL1_sample.pkl','br') as f:\n",
    "    results = pickle.load(f)"
   ]
  }
 ],
 "metadata": {
  "kernelspec": {
   "display_name": "Python 3",
   "language": "python",
   "name": "python3"
  },
  "language_info": {
   "codemirror_mode": {
    "name": "ipython",
    "version": 3
   },
   "file_extension": ".py",
   "mimetype": "text/x-python",
   "name": "python",
   "nbconvert_exporter": "python",
   "pygments_lexer": "ipython3",
   "version": "3.9.2"
  }
 },
 "nbformat": 4,
 "nbformat_minor": 5
}
